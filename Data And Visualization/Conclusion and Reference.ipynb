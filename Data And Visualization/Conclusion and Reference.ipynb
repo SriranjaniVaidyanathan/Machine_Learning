{
 "cells": [
  {
   "cell_type": "markdown",
   "metadata": {},
   "source": [
    "# Assignment #0 - Data and Visualization\n",
    "\n",
    "ASSIGNMENT DONE BY ,\n",
    "\n",
    "Name: SRIRANJANI VAIDYANATHAN\n",
    "\n",
    "Student ID: 801077329\n",
    "\n",
    "## INTRODUCTION\n",
    "\n",
    "\n",
    "This assignment is about how the Data is collected, read, preprocessed and visualizied. This is done using tools like Python, numpy, matplotlib, pandas,seaborn and Jupyter notebook. \n",
    "\n",
    "The data source from which the data was collected is Kaggle(\"https://www.kaggle.com/datasets\"). I have chosen two dataset one for classification which contains data that describes 120 years of Olympic history: athletes and results. The second data set used for regression contains data that describes daily weather observations from numerous Australian weather stations.\n",
    "\n",
    "There are various steps to visualize the dataset used for classification and regression. Below steps are done to visualize the data set. \n",
    "1. Read the data.\n",
    "2. Preprocessing the data.\n",
    "3. Visualize the data. \n"
   ]
  },
  {
   "cell_type": "markdown",
   "metadata": {},
   "source": [
    "# CONCLUSIONS"
   ]
  },
  {
   "cell_type": "markdown",
   "metadata": {},
   "source": [
    "This assignment gave me a clear view about what is Data Visualization. I got to learn about how the packages like numpy, matplotlib and pandas work.\n",
    "\n",
    "This was a great hands on assignment to work with data. I got to learn about the step by step process to visualize them. The various steps include Data collection, reading the data, preprocessing and visualizing them.\n",
    "\n",
    "Overall I got to learn about data and how to present them. \n"
   ]
  },
  {
   "cell_type": "markdown",
   "metadata": {},
   "source": [
    "# REFERENCES"
   ]
  },
  {
   "cell_type": "markdown",
   "metadata": {},
   "source": [
    "[1] Randi H Griffin, 120 years of Olympic history: athletes and results. Kaggle Dataset. Released under CC0: Public Domain. Retrieved from \"https://www.kaggle.com/heesoo37/120-years-of-olympic-history-athletes-and-results\".\n",
    "\n",
    "[2] Joe Young,Rain in Australia. Kaggle Dataset. Retrieved from \"https://www.kaggle.com/jsphyg/weather-dataset-rattle-package\".\n",
    "\n",
    "[3] Pandas 0.24.0 documentation » API Reference » DataFrame » pandas.DataFrame » pandas.DataFrame.groupby. General Writing FAQs.Retrieved from \" https://pandas.pydata.org/pandas-docs/stable/reference/api/pandas.DataFrame.groupby.html\".\n",
    "\n",
    "[4] Pandas 0.24.0 documentation » API Reference » DataFrame » pandas.DataFrame » pandas.DataFrame.plot. General Writing FAQs.Retrieved from \"https://pandas.pydata.org/pandas-docs/stable/reference/api/pandas.DataFrame.plot.html\".\n",
    "\n",
    "[5] pandas 0.24.0 documentation » API Reference » DataFrame » pandas.DataFrame »pandas.DataFrame.dropna. General Writing FAQs.Retrieved from \"https://pandas.pydata.org/pandas-docs/stable/reference/api/pandas.DataFrame.dropna.html\".\n",
    "\n",
    "[6] Python | Pandas isnull() and notnull(), GeeksforGeeks, General Writing FAQs.Retrieved from \"https://www.geeksforgeeks.org/python-pandas-isnull-and-notnull/\". \n",
    "\n",
    "[7] Goodfellow-et-al-2016, Deep Learning, Ian Goodfellow and Yoshua Bengio and Aaron Courville, MIT Press, Retrieved from http://www.deeplearningbook.org, 2016.\n",
    "\n",
    "[8] Pandas 0.24.0 documentation » User Guide » Visualization. General Writing FAQs.Retrieved from \"http://pandas.pydata.org/pandas-docs/stable/user_guide/visualization.html\".\n",
    "\n"
   ]
  }
 ],
 "metadata": {
  "kernelspec": {
   "display_name": "Python 3",
   "language": "python",
   "name": "python3"
  },
  "language_info": {
   "codemirror_mode": {
    "name": "ipython",
    "version": 3
   },
   "file_extension": ".py",
   "mimetype": "text/x-python",
   "name": "python",
   "nbconvert_exporter": "python",
   "pygments_lexer": "ipython3",
   "version": "3.7.4"
  }
 },
 "nbformat": 4,
 "nbformat_minor": 2
}
