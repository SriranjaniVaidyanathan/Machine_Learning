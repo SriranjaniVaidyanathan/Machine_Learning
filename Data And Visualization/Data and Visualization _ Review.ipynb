{
 "cells": [
  {
   "cell_type": "markdown",
   "metadata": {},
   "source": [
    "# Assignment #0 - Data and Visualization\n",
    "\n",
    "ASSIGNMENT DONE BY ,\n",
    "\n",
    "Name: SRIRANJANI VAIDYANATHAN\n",
    "\n",
    "Student ID: 801077329\n",
    "\n",
    "## INTRODUCTION\n",
    "\n",
    "\n",
    "This assignment is about how the Data is collected, read, preprocessed and visualizied. This is done using tools like Python, numpy, matplotlib, pandas,seaborn and Jupyter notebook. \n",
    "\n",
    "The data source from which the data was collected is Kaggle(\"https://www.kaggle.com/datasets\"). I have chosen two dataset one for classification which contains data that describes 120 years of Olympic history: athletes and results. The second data set used for regression contains data that describes daily weather observations from numerous Australian weather stations.\n",
    "\n",
    "There are various steps to visualize the dataset used for classification and regression. Below steps are done to visualize the data set. \n",
    "1. Read the data.\n",
    "2. Preprocessing the data.\n",
    "3. Visualize the data. \n"
   ]
  },
  {
   "cell_type": "markdown",
   "metadata": {},
   "source": [
    "# REVIEW\n",
    "\n",
    "## LINEAR ALGEBRA AND PROBABILITY THEORY\n",
    "\n",
    "### Linear Algebra\n",
    "\n",
    "It deals with continuous form of mathematics as compared to discrete structures. Linear algebra involves study of several types of mathematical objects like Scalar, Vector and Matrices. Scalars are single numbers, vectors denote an array of numbers and matrices are 2-D array of numbers. There is one more object called Tensors which are arrays with more than 2 axes. One of the important operations in matrices are matrix multiplication. The product is defined as C_(i,j)=∑_k Ai,j Bk,j. Linear Algebra also offers a powerful tool called matrix inversion which enables us to analytically solve equations for many values of a matrix variable. In machine learning concepts, the size of vectors is measured using a function called norm \n",
    "||x||_p=(∑_i |x_i |^p)^(1/p) . \n",
    "\n",
    "Norms include Lp norm which are functions that map vectors to non-negative values. There are special kinds of matrices and vectors like Diagonal matrices – which consist mostly of zeros and have nonzero entries along the main diagonal, Symmetric matrix – which is equal to its own transpose, orthogonal matrix which is a square matrix whose rows and columns are mutually orthonormal. Eigen decomposition is a method of decomposing the matrix into a set of eigenvectors and eigenvalues.The eigen decomposition of A is given as A=Vdiag(λ)V^(-1). \n",
    "\n",
    "A singular value decomposition is another way to factorize a matrix, into singular vectors and singular values. Since, matrix inversion is not defined for matrices which are not square, the Moore-Penrose pseudoinverse enables to make some possibility in inversion of matrices that are not squares The pseudoinverse of A is defined as a matrix \n",
    "A^+= lim(∝→0)⁡ ((A^T) A+ ∝I)^(-1) A^T.\n",
    "\n",
    "The trace operator in linear algebra is used to give the sum of all the diagonal entries in the matrix Tr(A)= ∑_i A_(i,i). \n",
    "\n",
    "The machine learning algorithm about Principal Components Analysis (PCA) can be derived using linear algebra. \n",
    "\n",
    "### Probability and Information Theory \n",
    "\n",
    "Probability theory is a method for representing uncertain statements. It provides a means of quantifying uncertainty as well as axioms for deriving new uncertain statements. Since, machine learning always has to deal with uncertain quantities and stochastic quantities. There are three sources of uncertainty – inherent stochasticity, incomplete observability, and incomplete modeling. Probability distribution describes about how likely a random variable or set of random variables are to take on each of the possible states. The method of finding the probability distribution of a subset over already known probability of set of variables is known as marginal probability distribution\n",
    "\n",
    "p(x)= ∫p(x,y)dy .\n",
    "\n",
    "Finding the probability of some event based on some other event that has happened is known as conditional probability\n",
    "\n",
    "P(y=y│x=x) =  (P(y=y,x=x))/(P(x=x)). \n",
    "\n",
    "Variance talks about the measure of how much the values of a function of a random variable x vary as we sample different values of x Var(f(x))=E[(f(x)-E[f(x)])^2]. \n",
    "\n",
    "The covariance gives the sense of how much two values are linearly related to each other\n",
    "Cov(f(x),g(y))=E[(f(x)-E[f(x)])(g(y)-E[g(y)])]. \n",
    "\n",
    "The common probability distributions include Bernoulli distribution, Multinoulli distribution, Gaussian Distribution, Exponential and Laplace Distribution, Dirac and Empirical Distribution. Bayes’ rule states that given value of P (y | x) and P(x), we can find the value of P(x | y).\n",
    "\n",
    "P(x |  y)=  (P(x)P(y |  x))/(P(y)). \n",
    "\n",
    "Information theory deals with quantifying how much information is present in a signal. It tells as to how to design optimal codes and calculate the expected length of messages sampled from specific probability distributions using various encoding schemes. Machine learning algorithms involve probability distributions over a very large number of random variables. These probability distributions involve direct interactions between relatively few variables. There are two kinds of structured probabilistic model – directed and undirected. Directed graphs have directed edges whereas undirected do not have directed edges. \n",
    "\n",
    "\n",
    "\n",
    "\n",
    "\n"
   ]
  }
 ],
 "metadata": {
  "kernelspec": {
   "display_name": "Python 3",
   "language": "python",
   "name": "python3"
  },
  "language_info": {
   "codemirror_mode": {
    "name": "ipython",
    "version": 3
   },
   "file_extension": ".py",
   "mimetype": "text/x-python",
   "name": "python",
   "nbconvert_exporter": "python",
   "pygments_lexer": "ipython3",
   "version": "3.7.4"
  }
 },
 "nbformat": 4,
 "nbformat_minor": 2
}
